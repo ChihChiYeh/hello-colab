{
  "nbformat": 4,
  "nbformat_minor": 0,
  "metadata": {
    "colab": {
      "provenance": [],
      "authorship_tag": "ABX9TyOFNDg+p+hYRYS3A+11IjsA",
      "include_colab_link": true
    },
    "kernelspec": {
      "name": "python3",
      "display_name": "Python 3"
    },
    "language_info": {
      "name": "python"
    }
  },
  "cells": [
    {
      "cell_type": "markdown",
      "metadata": {
        "id": "view-in-github",
        "colab_type": "text"
      },
      "source": [
        "<a href=\"https://colab.research.google.com/github/ChihChiYeh/hello-colab/blob/main/Task_07%E3%80%90%E5%AF%A6%E4%BD%9C%E9%A1%8C%E3%80%91%E5%8F%A3%E7%BD%A9%E8%B3%87%E6%96%99_API_%E4%B8%B2%E6%8E%A5.ipynb\" target=\"_parent\"><img src=\"https://colab.research.google.com/assets/colab-badge.svg\" alt=\"Open In Colab\"/></a>"
      ]
    },
    {
      "cell_type": "code",
      "execution_count": 2,
      "metadata": {
        "colab": {
          "base_uri": "https://localhost:8080/"
        },
        "id": "rGafW6WcBV96",
        "outputId": "799f60f9-297f-4912-b87f-303eca60e7de"
      },
      "outputs": [
        {
          "output_type": "stream",
          "name": "stdout",
          "text": [
            "{'臺北市': 338, '': 48, '高雄市': 421, '臺中市': 419, '臺南市': 270, '基隆市': 56, '新竹市': 38, '嘉義市': 66, '新北市': 500, '桃園市': 263, '新竹縣': 45, '宜蘭縣': 75, '苗栗縣': 55, '彰化縣': 178, '南投縣': 66, '雲林縣': 128, '嘉義縣': 83, '屏東縣': 139, '澎湖縣': 10, '花蓮縣': 45, '臺東縣': 22, '金門縣': 5, '連江縣': 0}\n",
            "{'新北市': 670270, '臺中市': 536710, '高雄市': 424170, '臺南市': 393900, '桃園市': 331940, '臺北市': 322490, '彰化縣': 219400, '雲林縣': 196990, '屏東縣': 184250, '苗栗縣': 131080, '嘉義縣': 113180, '嘉義市': 107840, '宜蘭縣': 106900, '南投縣': 91240, '基隆市': 80100, '': 69210, '花蓮縣': 57330, '新竹縣': 51350, '新竹市': 45630, '臺東縣': 28510, '金門縣': 15510, '澎湖縣': 12600, '連江縣': 7930}\n"
          ]
        }
      ],
      "source": [
        "import requests\n",
        "import json\n",
        "\n",
        "\n",
        "# 利用 requests 對 API 來源發送一個請求\n",
        "url = 'https://raw.githubusercontent.com/kiang/pharmacies/master/json/points.json'\n",
        "response = requests.get(url)\n",
        "# 將請求回應的內容存成一個字串格式\n",
        "d = response.text\n",
        "# 將長得像 json 格式的字串解析成字典或列表\n",
        "data = json.loads(d)\n",
        "\n",
        "med_count = {}\n",
        "# 填入欄位名稱\n",
        "for d in data['features']:\n",
        "  conunty = d['properties']['county']\n",
        "  if conunty not in med_count:\n",
        "    med_count[conunty] = 0\n",
        "  else:\n",
        "    med_count[conunty] += 1\n",
        "print(med_count)\n",
        "\n",
        "mask_count = {}\n",
        "# 填入欄位名稱\n",
        "for d in data['features']:\n",
        "    county = d['properties']['county']\n",
        "    mask_adult = d['properties']['mask_adult']\n",
        "    if county not in mask_count:\n",
        "        mask_count[county] = 0\n",
        "    mask_count[county] += mask_adult\n",
        "# 將結果從大到小排列\n",
        "mask_count = dict(sorted(mask_count.items(), key=lambda item: item[1], reverse=True))\n",
        "\n",
        "print(mask_count)"
      ]
    }
  ]
}